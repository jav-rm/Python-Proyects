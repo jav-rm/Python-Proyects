{
 "cells": [
  {
   "cell_type": "code",
   "execution_count": null,
   "id": "6e4cbc59",
   "metadata": {},
   "outputs": [],
   "source": [
    "#Importar librerias\n",
    "import datetime\n",
    "import pandas as pd\n",
    "import numpy as np\n",
    "import seaborn\n",
    "import matplotlib.pyplot as plt\n",
    "%matplotlib inline"
   ]
  },
  {
   "cell_type": "code",
   "execution_count": null,
   "id": "22974b76",
   "metadata": {},
   "outputs": [],
   "source": [
    "#Importar bases de datos\n",
    "\n",
    "listings = pd.read_csv(r\"C:\\Users\\Javi\\Desktop\\proyectoR\\AIRBNB MADRID\\raw_data\\listings.csv\")\n",
    "listings.head()"
   ]
  },
  {
   "cell_type": "code",
   "execution_count": null,
   "id": "98986694",
   "metadata": {},
   "outputs": [],
   "source": [
    "reviews = pd.read_csv(r\"C:\\Users\\Javi\\Desktop\\proyectoR\\AIRBNB MADRID\\raw_data\\reviews.csv\")\n",
    "reviews.head()"
   ]
  },
  {
   "cell_type": "code",
   "execution_count": null,
   "id": "d08a36e9",
   "metadata": {},
   "outputs": [],
   "source": [
    "calendar = pd.read_csv(r\"C:\\Users\\Javi\\Desktop\\proyectoR\\AIRBNB MADRID\\raw_data\\calendar.csv\")\n",
    "calendar.head()"
   ]
  },
  {
   "cell_type": "code",
   "execution_count": null,
   "id": "5b7188ee",
   "metadata": {},
   "outputs": [],
   "source": [
    "#Cambiar tipos de datos para que podamos operar con ellos que nos interesan"
   ]
  },
  {
   "cell_type": "code",
   "execution_count": null,
   "id": "24601617",
   "metadata": {},
   "outputs": [],
   "source": [
    "calendar.date.head()"
   ]
  },
  {
   "cell_type": "code",
   "execution_count": null,
   "id": "f5b9ec23",
   "metadata": {},
   "outputs": [],
   "source": [
    "calendar.dtypes"
   ]
  },
  {
   "cell_type": "code",
   "execution_count": null,
   "id": "d32e1191",
   "metadata": {},
   "outputs": [],
   "source": [
    "calendar[\"date\"].dtype"
   ]
  },
  {
   "cell_type": "code",
   "execution_count": null,
   "id": "d74799f9",
   "metadata": {},
   "outputs": [],
   "source": [
    "#De str a datetime\n",
    "calendar[\"date\"] = pd.to_datetime(calendar[\"date\"])"
   ]
  },
  {
   "cell_type": "code",
   "execution_count": null,
   "id": "fdbda9b0",
   "metadata": {},
   "outputs": [],
   "source": [
    "#Borrar signos que impiden hacer operaciones con ciertos numeros\n",
    "def remove_sign(x, sign):\n",
    "if type(x) is str:\n",
    "x= float(x.replace(sign, \"\").replace(\",\", \"\"))\n",
    "return x"
   ]
  },
  {
   "cell_type": "code",
   "execution_count": null,
   "id": "84009236",
   "metadata": {},
   "outputs": [],
   "source": [
    "#borrar símbolo $ del precio y convertir en float\n",
    "calendar.price = calendar.price.apply(remove_sign, sign=\"$\")"
   ]
  },
  {
   "cell_type": "code",
   "execution_count": null,
   "id": "be8d0708",
   "metadata": {},
   "outputs": [],
   "source": [
    "calendar.info()"
   ]
  },
  {
   "cell_type": "code",
   "execution_count": null,
   "id": "44dd49b7",
   "metadata": {},
   "outputs": [],
   "source": [
    "#Hacer lo mismo en listings\n",
    "listings.info(verbose=True, null_counts=True)"
   ]
  },
  {
   "cell_type": "code",
   "execution_count": null,
   "id": "178f52f2",
   "metadata": {},
   "outputs": [],
   "source": [
    "#De str a datetime\n",
    "listings[\"host_since\"] = pd.to_datetime(listings[\"host_since\"])"
   ]
  },
  {
   "cell_type": "code",
   "execution_count": null,
   "id": "41d45c31",
   "metadata": {},
   "outputs": [],
   "source": [
    "#QuitarSímbolo $ y convertir en float\n",
    "listings[\"price\"] = listings.price.apply(remove_sign, sign=\"$\")"
   ]
  },
  {
   "cell_type": "code",
   "execution_count": null,
   "id": "12e39586",
   "metadata": {},
   "outputs": [],
   "source": [
    "#Quitar Símbolo % y convertir en float\n",
    "listings[\"host_response_rate\"] = listings[\"host_response_rate\"].apply(remove_sign,sign =\"%\")"
   ]
  },
  {
   "cell_type": "code",
   "execution_count": null,
   "id": "a296ceeb",
   "metadata": {},
   "outputs": [],
   "source": [
    "listings.info(verbose=True)"
   ]
  },
  {
   "cell_type": "code",
   "execution_count": null,
   "id": "69bd54a8",
   "metadata": {},
   "outputs": [],
   "source": [
    "#Cambiar el formato de la fecha, del americano al formato europeo\n",
    "#pd.to_datetime(calendar[\"date\"].dt.strftime(\"%d-%m-%Y\"))"
   ]
  },
  {
   "cell_type": "code",
   "execution_count": null,
   "id": "cad3f904",
   "metadata": {},
   "outputs": [],
   "source": [
    "#Patrón de disponibilidad y precios"
   ]
  },
  {
   "cell_type": "code",
   "execution_count": null,
   "id": "db121524",
   "metadata": {},
   "outputs": [],
   "source": [
    "Oferta de casas diaria\n",
    "oferta_viviendas = calendar.groupby(\"date\").apply(lambda x: x.notnull().sum())[[\"price\"]]\n",
    "#cambiar nombre columnas\n",
    "oferta_viviendas = oferta_viviendas.rename(columns={\"price\":\"Oferta disponible\"})"
   ]
  },
  {
   "cell_type": "code",
   "execution_count": null,
   "id": "34dd36bf",
   "metadata": {},
   "outputs": [],
   "source": [
    "oferta_viviendas.head()"
   ]
  },
  {
   "cell_type": "code",
   "execution_count": null,
   "id": "f9675906",
   "metadata": {},
   "outputs": [],
   "source": [
    "#Precios medios\n",
    "calendar_notnull= calendar[calendar.price.notnull()]\n",
    "precio_medio_diario = calendar_notnull.groupby(\"date\").mean()[[\"price\"]]"
   ]
  },
  {
   "cell_type": "code",
   "execution_count": null,
   "id": "29506897",
   "metadata": {},
   "outputs": [],
   "source": [
    "#cambiar nombre columnas\n",
    "precio_medio_diario = precio_medio_diario.rename(columns ={\"price\":\"Precio vivienda medio\"})"
   ]
  },
  {
   "cell_type": "code",
   "execution_count": null,
   "id": "e017d997",
   "metadata": {},
   "outputs": [],
   "source": [
    "precio_medio_diario.head()"
   ]
  },
  {
   "cell_type": "code",
   "execution_count": null,
   "id": "9f33d9c6",
   "metadata": {},
   "outputs": [],
   "source": [
    "#Grafico casas disponibles y precio medio\n",
    "f, ax =plt.subplots(figsize=(15,6))\n",
    "plt1 = seaborn.lineplot(x = oferta_viviendas.index, y= \"Oferta disponible\",\n",
    "data = oferta_viviendas, color= \"r\", legend=False)\n",
    "for tl in ax.get_yticklabels():\n",
    "tl.set_color(\"r\")\n",
    "\n",
    "ax2= ax.twinx()\n",
    "plt2= seaborn.lineplot(x = precio_medio_diario.index,\n",
    "y= \"Precio vivienda medio\", data= precio_medio_diario, ax= ax2,\n",
    "                       linestyle=\":\", legend=False)"
   ]
  },
  {
   "cell_type": "code",
   "execution_count": null,
   "id": "60affa0b",
   "metadata": {},
   "outputs": [],
   "source": [
    "#Precio medio del alquiler en octubre de 2018\n",
    "pmd_oct_18 = precio_medio_diario[\"2018-10-01\":\"2018-11-01\"]\n",
    "plot_pmd_oct_18= pmd_oct_18.plot(color=\"purple\")\n",
    "plot_pmd_oct_18.set_xlabel(\"Fecha\")\n",
    "plot_pmd_oct_18.set_ylabel(\"Precio\")\n",
    "plot_pmd_oct_18.legend([\"Precio vivienda medio en Noviembre\"],loc=\"upper right\")\n",
    "plt.show()"
   ]
  },
  {
   "cell_type": "code",
   "execution_count": null,
   "id": "c1cdf876",
   "metadata": {},
   "outputs": [],
   "source": [
    "#Precio medio del alquiler en diciembre de 2018\n",
    "pmd_dic_18 = precio_medio_diario[\"2018-12-01\":\"2019-01-01\"]\n",
    "plot_pmd_dic_18=pmd_dic_18.plot(color=\"green\")\n",
    "plot_pmd_dic_18.set_xlabel(\"Fecha\")\n",
    "plot_pmd_dic_18.set_ylabel(\"Precio\")\n",
    "plot_pmd_dic_18.legend([\"Precio vivienda medio en Diciembre\"],loc=\"upper center\")\n",
    "plt.show()"
   ]
  },
  {
   "cell_type": "code",
   "execution_count": null,
   "id": "b7f7d2bf",
   "metadata": {},
   "outputs": [],
   "source": [
    "#Precio medio en una semana de Diciembre\n",
    "pmd_dic_finde_2018 = precio_medio_diario[\"2018-12-01\":\"2018-12-20\"]\n",
    "plot_pmd_dic_finde_18 =pmd_dic_finde_2018.plot()\n",
    "plot_pmd_dic_finde_18.xaxis.grid(True, which='minor',linestyle='-', linewidth=0.25)"
   ]
  },
  {
   "cell_type": "code",
   "execution_count": null,
   "id": "d89b7a7c",
   "metadata": {},
   "outputs": [],
   "source": [
    "pmd_semanasanta_18 = precio_medio_diario[\"2018-03-20\":\"2018-04-05\"]\n",
    "plot_pmd_semanasanta_18 =pmd_semanasanta_18.plot()\n",
    "plot_pmd_semanasanta_18.xaxis.grid(True, which='minor',linestyle='-', linewidth=0.25)"
   ]
  },
  {
   "cell_type": "code",
   "execution_count": null,
   "id": "7431fcae",
   "metadata": {},
   "outputs": [],
   "source": [
    "# Tiempo del año en el que están disponible las viviendas"
   ]
  },
  {
   "cell_type": "code",
   "execution_count": null,
   "id": "42d02c1f",
   "metadata": {},
   "outputs": [],
   "source": [
    "tiempo_medio_disponible = calendar.groupby(\"listing_id\").apply(lambda x: x.notnull().mean())[[\"price\"]]\n",
    "tiempo_medio_disponible = tiempo_medio_disponible.rename({\"price\":\"available_ratio\"}, axis=\"columns\")"
   ]
  },
  {
   "cell_type": "code",
   "execution_count": null,
   "id": "e2e7cc13",
   "metadata": {},
   "outputs": [],
   "source": [
    "#Viviendas disponibles menos de un 10% de todo el año\n",
    "len(tiempo_medio_disponible[tiempo_medio_disponible.available_ratio < 0.10])"
   ]
  },
  {
   "cell_type": "code",
   "execution_count": null,
   "id": "70ad3182",
   "metadata": {},
   "outputs": [],
   "source": [
    "len(tiempo_medio_disponible)"
   ]
  },
  {
   "cell_type": "code",
   "execution_count": null,
   "id": "00b890ed",
   "metadata": {},
   "outputs": [],
   "source": [
    "#Viviendas disponibles más de un 90% de todo el año\n",
    "len(tiempo_medio_disponible[tiempo_medio_disponible.available_ratio > 0.90])"
   ]
  },
  {
   "cell_type": "code",
   "execution_count": null,
   "id": "26ca9a05",
   "metadata": {},
   "outputs": [],
   "source": [
    "f, ax =plt.subplots(figsize=(15,6))\n",
    "plot_tmd =seaborn.distplot(tiempo_medio_disponible, kde=False, color=\"red\")\n",
    "plot_tmd.set_xlabel(\"Porcentaje de tiempo al año disponible para alquilar\", fontsize=15)\n",
    "plot_tmd.set_ylabel(\"Cantidad de viviendas\", fontsize=10)"
   ]
  },
  {
   "cell_type": "code",
   "execution_count": null,
   "id": "21be3947",
   "metadata": {},
   "outputs": [],
   "source": [
    "#Comprobar si a partir de septiembre existen cambios en la disponibildiad de las viviendas"
   ]
  },
  {
   "cell_type": "code",
   "execution_count": null,
   "id": "aec81cad",
   "metadata": {},
   "outputs": [],
   "source": [
    "calendar_sept_dic = calendar.loc[(calendar[\"date\"] >= \"2018-01-17\") & (calendar[\"date\"]<= \"2019-01-01\")]"
   ]
  },
  {
   "cell_type": "code",
   "execution_count": null,
   "id": "259a13ef",
   "metadata": {},
   "outputs": [],
   "source": [
    "tiempo_medio_disponible = calendar_sept_dic.groupby(\"listing_id\").apply(lambda x: x.notnull().mean())[[\"price\"]]\n",
    "tiempo_medio_disponible = tiempo_medio_disponible.rename({\"price\":\"available_ratio\"}, axis=\"columns\")"
   ]
  },
  {
   "cell_type": "code",
   "execution_count": null,
   "id": "ddfcc19d",
   "metadata": {},
   "outputs": [],
   "source": [
    "f, ax =plt.subplots(figsize=(15,6))\n",
    "ax =seaborn.distplot(tiempo_medio_disponible, kde=False)\n",
    "ax.set_xlabel(\"% Vivienda en alquiler\", fontsize=15)\n",
    "ax.set_ylabel(\"Cantidad de viviendas\", fontsize=10)"
   ]
  },
  {
   "cell_type": "code",
   "execution_count": null,
   "id": "91cceb4c",
   "metadata": {},
   "outputs": [],
   "source": [
    "len(tiempo_medio_disponible[tiempo_medio_disponible.available_ratio < 0.10])"
   ]
  },
  {
   "cell_type": "code",
   "execution_count": null,
   "id": "3e3e2195",
   "metadata": {},
   "outputs": [],
   "source": [
    "#Crear categorías para los precios\n",
    "#Tendencia de los precios\n",
    "calendar_notnull.price.head()"
   ]
  },
  {
   "cell_type": "code",
   "execution_count": null,
   "id": "a77fcd78",
   "metadata": {},
   "outputs": [],
   "source": [
    "listings.price.describe()"
   ]
  },
  {
   "cell_type": "code",
   "execution_count": null,
   "id": "b86d9334",
   "metadata": {},
   "outputs": [],
   "source": [
    "#usar como precio bajo el primer cuartil (25%), usar como precio alto el tercer cuartil(75%)\n",
    "def cat_precio(x, precio_bajo=35, precio_alto = 88):\n",
    "if x<=precio_bajo:\n",
    "    x=\"Precio Bajo\"\n",
    "elif x>= precio_alto:\n",
    "    x=\"Precio Alto\"\n",
    "else:\n",
    "    x=\"Precio Medio\"\n",
    "return x\n",
    "listings[\"cat_precio\"] = listings.price.apply(cat_precio)"
   ]
  },
  {
   "cell_type": "code",
   "execution_count": null,
   "id": "4885d3a6",
   "metadata": {},
   "outputs": [],
   "source": [
    "#Nueva columna con las 3 categorias de precios\n",
    "precio_cal = listings[[\"id\",\"price\",\"review_scores_rating\",\"number_of_reviews\"]].dropna()\n",
    "precio_cal.head()"
   ]
  },
  {
   "cell_type": "code",
   "execution_count": null,
   "id": "78cf7a07",
   "metadata": {},
   "outputs": [],
   "source": [
    "precio_cal.describe()"
   ]
  },
  {
   "cell_type": "code",
   "execution_count": null,
   "id": "4622de0b",
   "metadata": {},
   "outputs": [],
   "source": [
    "#Relación precio y calificación\n",
    "f, ax = plt.subplots(figsize=(15, 6))\n",
    "seaborn.scatterplot(x='price',y='review_scores_rating',hue='number_of_reviews',alpha=0.5,data=precio_cal)"
   ]
  },
  {
   "cell_type": "code",
   "execution_count": null,
   "id": "0faa07e4",
   "metadata": {},
   "outputs": [],
   "source": [
    "#Quitamos outliers"
   ]
  },
  {
   "cell_type": "code",
   "execution_count": null,
   "id": "aa506d21",
   "metadata": {},
   "outputs": [],
   "source": [
    "precio_cal_wo_outl = precio_cal"
   ]
  },
  {
   "cell_type": "code",
   "execution_count": null,
   "id": "9df1bc5e",
   "metadata": {},
   "outputs": [],
   "source": [
    "def remove_outlier(df_in, col_name):\n",
    "q1 = df_in[col_name].quantile(0.25)\n",
    "q3 = df_in[col_name].quantile(0.75)\n",
    "iqr = q3-q1 #Interquartile range\n",
    "fence_low\n",
    "= q1-1.5*iqr\n",
    "fence_high = q3+1.5*iqr\n",
    "df_out = df_in.loc[(df_in[col_name] > fence_low) & (df_in[col_name] < fence_high)]\n",
    "return df_out"
   ]
  },
  {
   "cell_type": "code",
   "execution_count": null,
   "id": "5b0198b8",
   "metadata": {},
   "outputs": [],
   "source": [
    "precio_cal_wo_outl =remove_outlier(precio_cal_wo_outl, \"price\")"
   ]
  },
  {
   "cell_type": "code",
   "execution_count": null,
   "id": "746dcabe",
   "metadata": {},
   "outputs": [],
   "source": [
    "f, ax = plt.subplots(figsize=(15, 6))\n",
    "seaborn.scatterplot(x='price',y='review_scores_rating',hue='number_of_reviews',alpha=0.5,data=precio_cal_wo_outl)"
   ]
  },
  {
   "cell_type": "code",
   "execution_count": null,
   "id": "fe4512ac",
   "metadata": {},
   "outputs": [],
   "source": [
    "#Algunas de las variables que tienen un peso significativo en el precio"
   ]
  },
  {
   "cell_type": "code",
   "execution_count": null,
   "id": "3e01d06e",
   "metadata": {},
   "outputs": [],
   "source": [
    "# Quitar aquellos datos que no presenten ningún valor en el precio\n",
    "listings_precios = listings[listings.price.notnull()]"
   ]
  },
  {
   "cell_type": "code",
   "execution_count": null,
   "id": "e26fb588",
   "metadata": {},
   "outputs": [],
   "source": [
    "#Precios según barrio de Madrid\n",
    "def plot_precio_barrio (colname, listings = listings, fig_row_size=11, fig_col_size=30\n",
    "):\n",
    "price_col=listings_precios.groupby(colname).mean()[[\"price\"]]\n",
    "price_col.reset_index(inplace=True)\n",
    "f, ax = plt.subplots(figsize=(fig_row_size, fig_col_size))\n",
    "seaborn.barplot(y = colname, x=\"price\", data= price_col.sort_values(by=\"price\", ascending=False))\n",
    "ax.set_xlabel(xlabel=\"Precio\")\n",
    "ax.set_ylabel(ylabel=\"Barrio\")"
   ]
  },
  {
   "cell_type": "code",
   "execution_count": null,
   "id": "e720bbd4",
   "metadata": {},
   "outputs": [],
   "source": [
    "plot_precio_barrio(\"neighbourhood_cleansed\", listings = listings_precios)"
   ]
  },
  {
   "cell_type": "code",
   "execution_count": null,
   "id": "11d2fda5",
   "metadata": {},
   "outputs": [],
   "source": [
    "#Precio según vivenda/habitación alquilada\n",
    "def plot_precio_tipov (colname, listings = listings, fig_row_size=11, fig_col_size=9):\n",
    "price_col=listings_precios.groupby(colname).mean()[[\"price\"]]\n",
    "price_col.reset_index(inplace=True)\n",
    "f, ax = plt.subplots(figsize=(fig_row_size, fig_col_size))\n",
    "seaborn.barplot(y = colname, x=\"price\", data= price_col.sort_values(by=\"price\", ascending=False))\n",
    "ax.set_xlabel(xlabel=\"Precio\")\n",
    "ax.set_ylabel(ylabel=\"Tipo de vivienda/habitación\")\n",
    "plot_precio_tipov(\"property_type\", listings = listings_precios)"
   ]
  },
  {
   "cell_type": "code",
   "execution_count": null,
   "id": "e5e1d3b3",
   "metadata": {},
   "outputs": [],
   "source": [
    "#Precio según vivenda/habitación alquilada\n",
    "def plot_valor_tipov (colname, listings = listings, fig_row_size=11, fig_col_size=30):\n",
    "price_valor=listings_precios.groupby(colname).mean()[[\"review_scores_rating\"]]\n",
    "price_valor.reset_index(inplace=True)\n",
    "f, ax = plt.subplots(figsize=(fig_row_size, fig_col_size))\n",
    "seaborn.barplot(y = colname, x=\"review_scores_rating\", data= price_valor.sort_values(by=\"review_scores_rating\", ascending=False))\n",
    "ax.set_xlabel(xlabel=\"Valoración de los usuarios\")\n",
    "ax.set_ylabel(ylabel=\"Barrio\")\n",
    "plot_valor_tipov(\"neighbourhood_cleansed\", listings = listings_precios)"
   ]
  },
  {
   "cell_type": "code",
   "execution_count": null,
   "id": "ac3c5933",
   "metadata": {},
   "outputs": [],
   "source": [
    "#Relación entre el precio del alquiler y la velocidad de respuesta del host cuando reci be un mensaje\n",
    "mod_listings_precios= listings_precios\n",
    "mod_listings_precios[\"host_response_time\"] = mod_listings_precios[\"host_response_time\" ].replace({\"a few days or more\":\"Un par de días o más\",\n",
    "\"within a day\":\"Alrededor de un día\",\n",
    "\"within an hour\":\"Alrededor de una hora\",\n",
    "\"within a few hours\":\"En pocas horas\"})\n",
    "\n",
    "def plot_precio_respuesta (colname, listings = listings, fig_row_size=11, fig_col_size=\n",
    "9):\n",
    "price_col=listings_precios.groupby(colname).mean()[[\"price\"]]\n",
    "price_col.reset_index(inplace=True)\n",
    "f, ax = plt.subplots(figsize=(fig_row_size, fig_col_size))\n",
    "seaborn.barplot(y = colname, x=\"price\", data= price_col.sort_values(by=\"price\", ascending=False))\n",
    "ax.set_xlabel(xlabel=\"Precio\")\n",
    "ax.set_ylabel(ylabel=\"Tiempo de respuesta\")\n",
    "plot_precio_respuesta(\"host_response_time\", listings = listings_precios)"
   ]
  },
  {
   "cell_type": "code",
   "execution_count": null,
   "id": "94d4a922",
   "metadata": {},
   "outputs": [],
   "source": [
    "#Buscar correlaciones numericas entre los valores de listings\n",
    "listings_precios_num = listings_precios.select_dtypes(include=[\"float64\",\"int\"])\n",
    "listings_precios.info()"
   ]
  },
  {
   "cell_type": "code",
   "execution_count": null,
   "id": "8b29841b",
   "metadata": {},
   "outputs": [],
   "source": [
    "#quitar columnas irrelevantes\n",
    "listings_precios_num = listings_precios.drop([\"id\",\"scrape_id\",\n",
    "    \"host_id\",\"latitude\",\"longitude\", \"jurisdiction_names\",\n",
    "    \"neighbourhood_group_cleansed\",\"license\",\"has_availability\",\n",
    "    \"neighbourhood_group_cleansed\",\"thumbnail_url\",\"medium_url\",\n",
    "    \"xl_picture_url\",\"host_acceptance_rate\"],axis=1)"
   ]
  },
  {
   "cell_type": "code",
   "execution_count": null,
   "id": "20097989",
   "metadata": {},
   "outputs": [],
   "source": [
    "#Correlación\n",
    "corr = listings_precios_num.corr()\n",
    "mask = np.zeros_like(corr, dtype=np.bool)\n",
    "mask[np.triu_indices_from(mask)] = True\n",
    "cmap = seaborn.diverging_palette(220, 10, as_cmap=True)\n",
    "f, ax = plt.subplots(figsize=(11, 9))\n",
    "seaborn.heatmap(corr,mask=mask, cmap=cmap, vmax=.3, center=0,square=True, linewidths=.5, cbar_kws={\"shrink\": .5})"
   ]
  },
  {
   "cell_type": "code",
   "execution_count": null,
   "id": "4fae067b",
   "metadata": {},
   "outputs": [],
   "source": []
  }
 ],
 "metadata": {
  "kernelspec": {
   "display_name": "Python 3 (ipykernel)",
   "language": "python",
   "name": "python3"
  },
  "language_info": {
   "codemirror_mode": {
    "name": "ipython",
    "version": 3
   },
   "file_extension": ".py",
   "mimetype": "text/x-python",
   "name": "python",
   "nbconvert_exporter": "python",
   "pygments_lexer": "ipython3",
   "version": "3.9.12"
  }
 },
 "nbformat": 4,
 "nbformat_minor": 5
}
